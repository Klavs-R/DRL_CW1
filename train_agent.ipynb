{
 "cells": [
  {
   "cell_type": "code",
   "execution_count": 1,
   "id": "bf373c35-e3ca-4f25-b147-10543217b784",
   "metadata": {},
   "outputs": [],
   "source": [
    "import matplotlib.pyplot as plt\n",
    "import numpy as np\n",
    "import time\n",
    "import torch\n",
    "\n",
    "from model import Agent\n",
    "from unityagents import UnityEnvironment\n",
    "\n",
    "plt.style.use('ggplot')"
   ]
  },
  {
   "cell_type": "markdown",
   "id": "2e8f42d0-ddab-4824-88aa-667daad59196",
   "metadata": {},
   "source": [
    "# Training Aent\n",
    "## Initialise params (found in testing) and env"
   ]
  },
  {
   "cell_type": "code",
   "execution_count": 2,
   "id": "e8c76377-cfec-49d4-8445-eb35ec7997ae",
   "metadata": {
    "tags": []
   },
   "outputs": [
    {
     "name": "stderr",
     "output_type": "stream",
     "text": [
      "INFO:unityagents:\n",
      "'Academy' started successfully!\n",
      "Unity Academy name: Academy\n",
      "        Number of Brains: 1\n",
      "        Number of External Brains : 1\n",
      "        Lesson number : 0\n",
      "        Reset Parameters :\n",
      "\t\t\n",
      "Unity brain name: BananaBrain\n",
      "        Number of Visual Observations (per agent): 0\n",
      "        Vector Observation space type: continuous\n",
      "        Vector Observation space size (per agent): 37\n",
      "        Number of stacked Vector Observation: 1\n",
      "        Vector Action space type: discrete\n",
      "        Vector Action space size (per agent): 4\n",
      "        Vector Action descriptions: , , , \n"
     ]
    }
   ],
   "source": [
    "nn_struct = [64, 64]\n",
    "gamma = 0.9\n",
    "tau = 0.01\n",
    "\n",
    "env = UnityEnvironment(file_name=\"Banana.app\")"
   ]
  },
  {
   "cell_type": "code",
   "execution_count": 3,
   "id": "00db900e-459d-47b9-b46c-29eb900e3dfd",
   "metadata": {
    "tags": []
   },
   "outputs": [
    {
     "name": "stdout",
     "output_type": "stream",
     "text": [
      "Action space dim:  4\n",
      "State space dim:  37\n"
     ]
    }
   ],
   "source": [
    "# Use the default brain to get action and state space size\n",
    "brain_name = env.brain_names[0]\n",
    "brain = env.brains[brain_name]\n",
    "\n",
    "# Action space\n",
    "action_size = brain.vector_action_space_size\n",
    "\n",
    "# State space \n",
    "env_info = env.reset(train_mode=True)[brain_name]\n",
    "state = env_info.vector_observations[0]\n",
    "state_size = len(state)\n",
    "\n",
    "print(\"Action space dim: \", action_size)\n",
    "print(\"State space dim: \", state_size)"
   ]
  },
  {
   "cell_type": "markdown",
   "id": "b044b1d5-dff5-4f0d-a66f-bc807740b470",
   "metadata": {},
   "source": [
    "## Agent training function"
   ]
  },
  {
   "cell_type": "code",
   "execution_count": 4,
   "id": "63276997-53cd-4bfa-9d12-e294bc21b54b",
   "metadata": {},
   "outputs": [],
   "source": [
    "def train_agent(agent, n_episodes=2000, eps_start=1.0, eps_end=0.01, eps_decay=0.995, windows=[10, 100]):\n",
    "    \"\"\"\n",
    "    Training the agent\n",
    "    \"\"\"\n",
    "    scores = []\n",
    "    avg_score = -np.inf\n",
    "    max_avg_score = -np.inf\n",
    "    eps = eps_start\n",
    "    start = time.perf_counter()\n",
    "\n",
    "    win1, win2 = windows\n",
    "\n",
    "    for i in range(n_episodes):\n",
    "        info = env.reset(train_mode=True)[brain_name]\n",
    "        state = info.vector_observations[0]\n",
    "        score = 0 \n",
    "\n",
    "        while True:\n",
    "            action = agent.act(state, eps)            \n",
    "            info = env.step(action)[brain_name]\n",
    "            \n",
    "            next_state = info.vector_observations[0]\n",
    "            reward = info.rewards[0]\n",
    "            done = info.local_done[0]\n",
    "            score += reward\n",
    "            \n",
    "            agent.step(state, action, reward, next_state, done)\n",
    "\n",
    "            state = next_state\n",
    "\n",
    "            if done:\n",
    "                break \n",
    "\n",
    "        scores.append(score)\n",
    "        eps = max(eps_end, eps_decay*eps)\n",
    "\n",
    "        if len(scores) > 99:\n",
    "            avg_score = np.mean(scores[-100:])\n",
    "            max_avg_score = max(avg_score, max_avg_score)\n",
    "            \n",
    "        now = time.perf_counter() - start\n",
    "        print(f\"\\r{int(now/60):02d}:{int(now%60):02d} Episode {i+1}/{n_episodes}, Max Avg: {max_avg_score:.4f}, Avg: {avg_score:.4f}, Epsilon: {eps:.4f}\", end=\"\")\n",
    "        \n",
    "        # Set limit above requirement for good measure\n",
    "        if avg_score > 15:\n",
    "            print(f\"\\nSuccess, avg score of {avg_score:.2f} after {i} episodes\")\n",
    "            break \n",
    "            \n",
    "    avg_1 = [np.nan for _ in range(win1 - 1)]\n",
    "    avg_2 = [np.nan for _ in range(win2 - 1)]\n",
    "\n",
    "    for i in range(len(scores) - win1 + 1):\n",
    "        avg_1.append(np.mean(scores[i:i+win1]))\n",
    "\n",
    "    for i in range(len(scores) - win2 + 1):\n",
    "        avg_2.append(np.mean(scores[i:i+win2]))\n",
    "\n",
    "    plt.plot(scores, label=\"Individual\")\n",
    "    plt.plot(avg_1, label=f\"Avg_Window = {win1}\")\n",
    "    plt.plot(avg_2, label=f\"Avg_window = {win2}\")\n",
    "    plt.xlabel(\"episode\")\n",
    "    plt.ylabel(\"score\")\n",
    "    plt.legend()\n",
    "    plt.savefig(\"ouput_rewards.png\")\n",
    "    plt.show()"
   ]
  },
  {
   "cell_type": "markdown",
   "id": "ee0f09df-6d1c-4fa8-94cd-e99868d2083a",
   "metadata": {},
   "source": [
    "## Initialise agent and train"
   ]
  },
  {
   "cell_type": "code",
   "execution_count": 5,
   "id": "e264b036-f4a4-438f-8f7f-d73dc7ef3786",
   "metadata": {},
   "outputs": [
    {
     "name": "stdout",
     "output_type": "stream",
     "text": [
      "07:50 Episode 754/2000, Max Avg: 15.0100, Avg: 15.0100, Epsilon: 0.0228\n",
      "Success, avg score of 15.01 after 753 episodes\n"
     ]
    },
    {
     "data": {
      "image/png": "[encoded data removed]",
      "text/plain": [
       "<Figure size 432x288 with 1 Axes>"
      ]
     },
     "metadata": {},
     "output_type": "display_data"
    }
   ],
   "source": [
    "agent = Agent(state_size, action_size, nn_struct, gamma=gamma, tau=tau)\n",
    "train_agent(agent)"
   ]
  },
  {
   "cell_type": "markdown",
   "id": "ccde4e03-90ca-49ea-bb0e-5b973c0e92d5",
   "metadata": {},
   "source": [
    "## Save model and test loading"
   ]
  },
  {
   "cell_type": "code",
   "execution_count": 6,
   "id": "d01bb1ff-0b8b-4680-ae69-55782c1ffa4b",
   "metadata": {},
   "outputs": [],
   "source": [
    "torch.save(agent.local_nn, \"model_weights/local_nn.trch\")\n",
    "torch.save(agent.target_nn, \"model_weights/target_nn.trch\")"
   ]
  },
  {
   "cell_type": "code",
   "execution_count": 7,
   "id": "707e7885-fb71-43fd-8ebd-a706eb797759",
   "metadata": {},
   "outputs": [],
   "source": [
    "# Load into other agent\n",
    "agent2 = Agent(state_size, action_size, nn_struct, gamma=gamma, tau=tau)\n",
    "\n",
    "agent2.local_nn = torch.load(\"model_weights/local_nn.trch\")\n",
    "agent2.target_nn = torch.load(\"model_weights/target_nn.trch\")"
   ]
  },
  {
   "cell_type": "code",
   "execution_count": 11,
   "id": "24075821-05ef-47f4-b6e8-5f4a1d354b17",
   "metadata": {},
   "outputs": [
    {
     "name": "stdout",
     "output_type": "stream",
     "text": [
      "Attempt 1 score: 19.0\n",
      "Attempt 2 score: 16.0\n"
     ]
    }
   ],
   "source": [
    "# Test it running\n",
    "for i in range(2):\n",
    "    info = env.reset(train_mode=False)[brain_name]\n",
    "    state = info.vector_observations[0]\n",
    "    score = 0\n",
    "    \n",
    "    while True:\n",
    "        action = agent2.act(state, 0)            \n",
    "        info = env.step(action)[brain_name]\n",
    "\n",
    "        next_state = info.vector_observations[0]\n",
    "        reward = info.rewards[0]\n",
    "        done = info.local_done[0]\n",
    "        score += reward\n",
    "        \n",
    "        agent2.step(state, action, reward, next_state, done)\n",
    "\n",
    "        state = next_state\n",
    "\n",
    "        if done:\n",
    "            break \n",
    "            \n",
    "    print(f\"Attempt {i+1} score: {score}\")"
   ]
  },
  {
   "cell_type": "code",
   "execution_count": null,
   "id": "ae79165d-abd2-4e4a-a28d-89da66829aba",
   "metadata": {},
   "outputs": [],
   "source": []
  }
 ],
 "metadata": {
  "kernelspec": {
   "display_name": "dr_cw1",
   "language": "python",
   "name": "dr_cw1"
  },
  "language_info": {
   "codemirror_mode": {
    "name": "ipython",
    "version": 3
   },
   "file_extension": ".py",
   "mimetype": "text/x-python",
   "name": "python",
   "nbconvert_exporter": "python",
   "pygments_lexer": "ipython3",
   "version": "3.6.13"
  }
 },
 "nbformat": 4,
 "nbformat_minor": 5
}
